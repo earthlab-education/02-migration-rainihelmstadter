{
 "cells": [
  {
   "cell_type": "markdown",
   "id": "5e68a2db",
   "metadata": {},
   "source": [
    "### Steps for downloading GBIF data for another species for your portfolio post\n",
    "\n",
    "#### Step 1: choose a terrestrial species that migrates (and find its scientific/Latin name)\n",
    "- Western Tanager (Piranga ludoviciana)\n",
    "\n",
    "#### Step 2: make an account on [gbif.org](<https://www.gbif.org/)>)\n",
    "- raini.helmstadter@colorado.edu\n",
    "\n",
    "#### Step 3: Install the pygbif package in your python environment\n",
    "\n",
    "If you're on a Mac, just run this code chunk:"
   ]
  },
  {
   "cell_type": "code",
   "execution_count": null,
   "id": "fb367f5f",
   "metadata": {},
   "outputs": [],
   "source": [
    "# %% bash\n",
    "# pip install pygbif"
   ]
  },
  {
   "cell_type": "markdown",
   "id": "e177dfe5",
   "metadata": {},
   "source": [
    "If you're on a PC, open Git Bash in the Terminal at the bottom of the Jupyter notebook, and enter this: \n",
    "\n",
    "`pip install pygbif`"
   ]
  },
  {
   "cell_type": "markdown",
   "id": "2aef0dbb",
   "metadata": {},
   "source": [
    "#### Step 4: load the packages you'll need"
   ]
  },
  {
   "cell_type": "code",
   "execution_count": null,
   "id": "f3b77a0c",
   "metadata": {},
   "outputs": [],
   "source": [
    "import pathlib\n",
    "import os\n",
    "import time\n",
    "import zipfile\n",
    "\n",
    "from getpass import getpass\n",
    "from glob import glob\n",
    "\n",
    "import geopandas as gpd\n",
    "import pygbif.occurrences as occ\n",
    "import pandas as pd\n",
    "import pygbif.species as species"
   ]
  },
  {
   "cell_type": "markdown",
   "id": "07772f54",
   "metadata": {},
   "source": [
    "#### Step 5: make a folder for your GBIF data\n",
    "You'll need to modify this code to match your folder structure:"
   ]
  },
  {
   "cell_type": "code",
   "execution_count": 10,
   "id": "192ff4c1",
   "metadata": {},
   "outputs": [
    {
     "data": {
      "text/plain": [
       "'C:\\\\Users\\\\raini\\\\Documents\\\\Graduate_School\\\\EDA_Certificate\\\\data\\\\migration-portfolio\\\\gbif_downloads'"
      ]
     },
     "execution_count": 10,
     "metadata": {},
     "output_type": "execute_result"
    }
   ],
   "source": [
    "# create data directory\n",
    "wtan_dir = os.path.join(\n",
    "\n",
    "    # Home Directory\n",
    "    pathlib.Path.home(),\n",
    "\n",
    "    # Earth Analytics Data Directory\n",
    "    'Documents',\n",
    "    'Graduate_School',\n",
    "    'EDA_Certificate',\n",
    "    'data',\n",
    "    # Project Directory\n",
    "    'migration-portfolio'\n",
    ")\n",
    "\n",
    "# make the directory\n",
    "os.makedirs(wtan_dir, exist_ok = True)\n",
    "\n",
    "# define directory for gbif data\n",
    "gbif_dir = os.path.join(wtan_dir, 'gbif_downloads')\n",
    "\n",
    "# make the directory\n",
    "os.makedirs(gbif_dir, exist_ok = True)\n",
    "\n",
    "gbif_dir"
   ]
  },
  {
   "cell_type": "markdown",
   "id": "43ca47a3",
   "metadata": {},
   "source": [
    "#### Step 6: link GBIF to your Jupyter notebook\n",
    "- Change to `reset = True` the first time you run it. When you run it, you'll be prompted to enter your GBIF username, password, and associated email address\n",
    "- Then change it back to `reset = False` so you can re-run the chunk without having to reconnect to GBIF\n",
    "- You don’t need to modify this code chunk in any other way\n"
   ]
  },
  {
   "cell_type": "code",
   "execution_count": null,
   "id": "d86887c7",
   "metadata": {},
   "outputs": [],
   "source": [
    "####--------------------------####\n",
    "#### DO NOT MODIFY THIS CODE! ####\n",
    "####--------------------------####\n",
    "# This code ASKS for your credentials \n",
    "# and saves it for the rest of the session.\n",
    "# NEVER put your credentials into your code!!!!\n",
    "\n",
    "# GBIF needs a username, password, and email \n",
    "# All 3 need to match the account\n",
    "reset = False\n",
    "\n",
    "# Request and store username\n",
    "if (not ('GBIF_USER'  in os.environ)) or reset:\n",
    "    os.environ['GBIF_USER'] = input('GBIF username:')\n",
    "\n",
    "# Securely request and store password\n",
    "if (not ('GBIF_PWD'  in os.environ)) or reset:\n",
    "    os.environ['GBIF_PWD'] = getpass('GBIF password:')\n",
    "    \n",
    "# Request and store account email address\n",
    "if (not ('GBIF_EMAIL'  in os.environ)) or reset:\n",
    "    os.environ['GBIF_EMAIL'] = input('GBIF email:')"
   ]
  },
  {
   "cell_type": "markdown",
   "id": "3ba6fd5b",
   "metadata": {},
   "source": [
    "#### Step 7: Get the species key for your species from GBIF using the `name_backbone` command\n",
    "You'll need to modify this code with the scientific name of your species"
   ]
  },
  {
   "cell_type": "code",
   "execution_count": 6,
   "id": "f9e1b0f5",
   "metadata": {},
   "outputs": [
    {
     "data": {
      "text/plain": [
       "{'usageKey': 2488484,\n",
       " 'scientificName': 'Piranga ludoviciana (A.Wilson, 1811)',\n",
       " 'canonicalName': 'Piranga ludoviciana',\n",
       " 'rank': 'SPECIES',\n",
       " 'status': 'ACCEPTED',\n",
       " 'confidence': 99,\n",
       " 'matchType': 'EXACT',\n",
       " 'kingdom': 'Animalia',\n",
       " 'phylum': 'Chordata',\n",
       " 'order': 'Passeriformes',\n",
       " 'family': 'Cardinalidae',\n",
       " 'genus': 'Piranga',\n",
       " 'species': 'Piranga ludoviciana',\n",
       " 'kingdomKey': 1,\n",
       " 'phylumKey': 44,\n",
       " 'classKey': 212,\n",
       " 'orderKey': 729,\n",
       " 'familyKey': 9285,\n",
       " 'genusKey': 2488483,\n",
       " 'speciesKey': 2488484,\n",
       " 'class': 'Aves'}"
      ]
     },
     "execution_count": 6,
     "metadata": {},
     "output_type": "execute_result"
    }
   ],
   "source": [
    "### grab the species info\n",
    "backbone = species.name_backbone(name = 'Piranga ludoviciana')\n",
    "\n",
    "### check it out\n",
    "backbone"
   ]
  },
  {
   "cell_type": "code",
   "execution_count": 9,
   "id": "89ef0db8",
   "metadata": {},
   "outputs": [
    {
     "data": {
      "text/plain": [
       "2488484"
      ]
     },
     "execution_count": 9,
     "metadata": {},
     "output_type": "execute_result"
    }
   ],
   "source": [
    "\n",
    "### pull out the species key\n",
    "species_key = backbone['usageKey']\n",
    "\n",
    "### check it out\n",
    "species_key"
   ]
  },
  {
   "cell_type": "markdown",
   "id": "2d9faa8c",
   "metadata": {},
   "source": [
    "#### Step 8: Download Data via the GBIF API\n"
   ]
  },
  {
   "cell_type": "code",
   "execution_count": null,
   "id": "4eac7215",
   "metadata": {},
   "outputs": [],
   "source": [
    "# Only download once\n",
    "if not any(gbif_dir.rglob('*.csv')):\n",
    "    # Only submit one request\n",
    "    if not 'GBIF_DOWNLOAD_KEY' in os.environ:\n",
    "        # Submit query to GBIF\n",
    "        gbif_query = occ.download([\n",
    "            f'speciesKey = {species_key}',\n",
    "            'hasCoordinate = True',\n",
    "            'year = 2024',\n",
    "        ])\n",
    "        # Take first result\n",
    "        os.environ['GBIF_DOWNLOAD_KEY'] = gbif_query[0]\n",
    "\n",
    "    # Wait for the download to build\n",
    "    dld_key = os.environ['GBIF_DOWNLOAD_KEY']\n",
    "    wait = occ.download_meta(dld_key)['status']\n",
    "    while not wait=='SUCCEEDED':\n",
    "        wait = occ.download_meta(dld_key)['status']\n",
    "        time.sleep(5)\n",
    "\n",
    "    # Download GBIF data\n",
    "    dld_info = occ.download_get(\n",
    "        os.environ['GBIF_DOWNLOAD_KEY'], \n",
    "        path = gbif_dir)\n",
    "    dld_path = dld_info['path']\n",
    "\n",
    "    # Unzip GBIF data\n",
    "    with zipfile.ZipFile(dld_path) as dld_zip:\n",
    "        dld_zip.extractall(path=gbif_dir)\n",
    "        \n",
    "    # Clean up the .zip file\n",
    "    os.remove(dld_path)\n",
    "\n",
    "# Find the extracted .csv file path (first result)\n",
    "original_gbif_path = next(\n",
    "    gbif_dir.rglob('csv_file_pattern'))\n",
    "original_gbif_path"
   ]
  }
 ],
 "metadata": {
  "kernelspec": {
   "display_name": "earth-analytics-python",
   "language": "python",
   "name": "python3"
  },
  "language_info": {
   "codemirror_mode": {
    "name": "ipython",
    "version": 3
   },
   "file_extension": ".py",
   "mimetype": "text/x-python",
   "name": "python",
   "nbconvert_exporter": "python",
   "pygments_lexer": "ipython3",
   "version": "3.11.13"
  }
 },
 "nbformat": 4,
 "nbformat_minor": 5
}
