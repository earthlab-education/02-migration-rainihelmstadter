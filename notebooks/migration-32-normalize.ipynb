{
  "cells": [
    {
      "cell_type": "markdown",
      "id": "683f1a9b-7b2a-4348-a6df-7a02fb5336ad",
      "metadata": {},
      "source": [
        "# Mapping migration\n",
        "\n",
        "Introduction to vector data operations\n",
        "\n",
        "## STEP 0: Set up\n",
        "\n",
        "To get started on this notebook, you’ll need to restore any variables\n",
        "from previous notebooks to your workspace. To save time and memory, make\n",
        "sure to specify which variables you want to load."
      ]
    },
    {
      "cell_type": "code",
      "execution_count": null,
      "id": "654dde1d",
      "metadata": {},
      "outputs": [],
      "source": [
        "%store -r eco_gdf gbif_gdf"
      ]
    },
    {
      "cell_type": "markdown",
      "id": "22b3e08d-7cb7-4e6e-9ef3-08e5535a3ddd",
      "metadata": {},
      "source": [
        "### Identify the ecoregion for each observation\n",
        "\n",
        "You can combine the ecoregions and the observations **spatially** using\n",
        "a method called `.sjoin()`, which stands for spatial join.\n",
        "\n",
        "<link rel=\"stylesheet\" type=\"text/css\" href=\"./assets/styles.css\"><div class=\"callout callout-style-default callout-titled callout-read\"><div class=\"callout-header\"><div class=\"callout-icon-container\"><i class=\"callout-icon\"></i></div><div class=\"callout-title-container flex-fill\">Read More</div></div><div class=\"callout-body-container callout-body\"><p>Check out the <a\n",
        "href=\"https://geopandas.org/en/stable/docs/user_guide/mergingdata.html#spatial-joins\"><code>geopandas</code>\n",
        "documentation on spatial joins</a> to help you figure this one out. You\n",
        "can also ask your favorite LLM (Large-Language Model, like ChatGPT)</p></div></div>\n",
        "\n",
        "<link rel=\"stylesheet\" type=\"text/css\" href=\"./assets/styles.css\"><div class=\"callout callout-style-default callout-titled callout-task\"><div class=\"callout-header\"><div class=\"callout-icon-container\"><i class=\"callout-icon\"></i></div><div class=\"callout-title-container flex-fill\">Try It: Perform a spatial join</div></div><div class=\"callout-body-container callout-body\"><p>Identify the correct values for the <code>how=</code> and\n",
        "<code>predicate=</code> parameters of the spatial join.</p></div></div>"
      ]
    },
    {
      "cell_type": "code",
      "execution_count": 7,
      "id": "cf80a6bc",
      "metadata": {
        "template": "student"
      },
      "outputs": [
        {
          "data": {
            "application/vnd.microsoft.datawrangler.viewer.v0+json": {
              "columns": [
                {
                  "name": "index",
                  "rawType": "int64",
                  "type": "integer"
                },
                {
                  "name": "ecoregion",
                  "rawType": "int64",
                  "type": "integer"
                },
                {
                  "name": "observation_id",
                  "rawType": "int64",
                  "type": "integer"
                },
                {
                  "name": "month",
                  "rawType": "int64",
                  "type": "integer"
                }
              ],
              "ref": "c6933e4b-24cd-4762-a2c1-d9b9e9598669",
              "rows": [
                [
                  "0",
                  "12",
                  "43461",
                  "5"
                ],
                [
                  "1",
                  "12",
                  "73550",
                  "5"
                ],
                [
                  "2",
                  "12",
                  "141749",
                  "6"
                ],
                [
                  "3",
                  "12",
                  "72000",
                  "7"
                ],
                [
                  "4",
                  "12",
                  "123537",
                  "6"
                ],
                [
                  "5",
                  "12",
                  "43959",
                  "7"
                ],
                [
                  "6",
                  "16",
                  "60091",
                  "6"
                ],
                [
                  "7",
                  "16",
                  "131280",
                  "5"
                ],
                [
                  "8",
                  "16",
                  "22926",
                  "7"
                ],
                [
                  "9",
                  "16",
                  "58951",
                  "6"
                ],
                [
                  "10",
                  "16",
                  "133290",
                  "6"
                ],
                [
                  "11",
                  "16",
                  "144234",
                  "6"
                ],
                [
                  "12",
                  "16",
                  "160387",
                  "7"
                ],
                [
                  "13",
                  "16",
                  "135476",
                  "6"
                ],
                [
                  "14",
                  "16",
                  "48692",
                  "6"
                ],
                [
                  "15",
                  "16",
                  "136160",
                  "6"
                ],
                [
                  "16",
                  "16",
                  "14675",
                  "5"
                ],
                [
                  "17",
                  "16",
                  "73308",
                  "5"
                ],
                [
                  "18",
                  "16",
                  "87651",
                  "5"
                ],
                [
                  "19",
                  "16",
                  "18492",
                  "6"
                ],
                [
                  "20",
                  "16",
                  "45207",
                  "5"
                ],
                [
                  "21",
                  "16",
                  "575",
                  "7"
                ],
                [
                  "22",
                  "16",
                  "119804",
                  "6"
                ],
                [
                  "23",
                  "16",
                  "33281",
                  "5"
                ],
                [
                  "24",
                  "16",
                  "60139",
                  "7"
                ],
                [
                  "25",
                  "16",
                  "38935",
                  "6"
                ],
                [
                  "26",
                  "16",
                  "75175",
                  "7"
                ],
                [
                  "27",
                  "16",
                  "20715",
                  "7"
                ],
                [
                  "28",
                  "16",
                  "75099",
                  "5"
                ],
                [
                  "29",
                  "16",
                  "86897",
                  "7"
                ],
                [
                  "30",
                  "16",
                  "29620",
                  "7"
                ],
                [
                  "31",
                  "16",
                  "62693",
                  "7"
                ],
                [
                  "32",
                  "16",
                  "11557",
                  "7"
                ],
                [
                  "33",
                  "16",
                  "88829",
                  "5"
                ],
                [
                  "34",
                  "16",
                  "125533",
                  "7"
                ],
                [
                  "35",
                  "16",
                  "163062",
                  "5"
                ],
                [
                  "36",
                  "16",
                  "149398",
                  "5"
                ],
                [
                  "37",
                  "16",
                  "149049",
                  "7"
                ],
                [
                  "38",
                  "16",
                  "30300",
                  "7"
                ],
                [
                  "39",
                  "16",
                  "57567",
                  "5"
                ],
                [
                  "40",
                  "16",
                  "117269",
                  "5"
                ],
                [
                  "41",
                  "16",
                  "98450",
                  "7"
                ],
                [
                  "42",
                  "16",
                  "112402",
                  "6"
                ],
                [
                  "43",
                  "16",
                  "116186",
                  "5"
                ],
                [
                  "44",
                  "16",
                  "90517",
                  "7"
                ],
                [
                  "45",
                  "16",
                  "120469",
                  "7"
                ],
                [
                  "46",
                  "16",
                  "43706",
                  "5"
                ],
                [
                  "47",
                  "16",
                  "65653",
                  "7"
                ],
                [
                  "48",
                  "16",
                  "79447",
                  "6"
                ],
                [
                  "49",
                  "16",
                  "146487",
                  "6"
                ]
              ],
              "shape": {
                "columns": 3,
                "rows": 162348
              }
            },
            "text/html": [
              "<div>\n",
              "<style scoped>\n",
              "    .dataframe tbody tr th:only-of-type {\n",
              "        vertical-align: middle;\n",
              "    }\n",
              "\n",
              "    .dataframe tbody tr th {\n",
              "        vertical-align: top;\n",
              "    }\n",
              "\n",
              "    .dataframe thead th {\n",
              "        text-align: right;\n",
              "    }\n",
              "</style>\n",
              "<table border=\"1\" class=\"dataframe\">\n",
              "  <thead>\n",
              "    <tr style=\"text-align: right;\">\n",
              "      <th></th>\n",
              "      <th>ecoregion</th>\n",
              "      <th>observation_id</th>\n",
              "      <th>month</th>\n",
              "    </tr>\n",
              "  </thead>\n",
              "  <tbody>\n",
              "    <tr>\n",
              "      <th>0</th>\n",
              "      <td>12</td>\n",
              "      <td>43461</td>\n",
              "      <td>5</td>\n",
              "    </tr>\n",
              "    <tr>\n",
              "      <th>1</th>\n",
              "      <td>12</td>\n",
              "      <td>73550</td>\n",
              "      <td>5</td>\n",
              "    </tr>\n",
              "    <tr>\n",
              "      <th>2</th>\n",
              "      <td>12</td>\n",
              "      <td>141749</td>\n",
              "      <td>6</td>\n",
              "    </tr>\n",
              "    <tr>\n",
              "      <th>3</th>\n",
              "      <td>12</td>\n",
              "      <td>72000</td>\n",
              "      <td>7</td>\n",
              "    </tr>\n",
              "    <tr>\n",
              "      <th>4</th>\n",
              "      <td>12</td>\n",
              "      <td>123537</td>\n",
              "      <td>6</td>\n",
              "    </tr>\n",
              "    <tr>\n",
              "      <th>...</th>\n",
              "      <td>...</td>\n",
              "      <td>...</td>\n",
              "      <td>...</td>\n",
              "    </tr>\n",
              "    <tr>\n",
              "      <th>162343</th>\n",
              "      <td>839</td>\n",
              "      <td>123004</td>\n",
              "      <td>9</td>\n",
              "    </tr>\n",
              "    <tr>\n",
              "      <th>162344</th>\n",
              "      <td>839</td>\n",
              "      <td>60931</td>\n",
              "      <td>10</td>\n",
              "    </tr>\n",
              "    <tr>\n",
              "      <th>162345</th>\n",
              "      <td>839</td>\n",
              "      <td>87041</td>\n",
              "      <td>10</td>\n",
              "    </tr>\n",
              "    <tr>\n",
              "      <th>162346</th>\n",
              "      <td>839</td>\n",
              "      <td>28267</td>\n",
              "      <td>9</td>\n",
              "    </tr>\n",
              "    <tr>\n",
              "      <th>162347</th>\n",
              "      <td>839</td>\n",
              "      <td>164384</td>\n",
              "      <td>9</td>\n",
              "    </tr>\n",
              "  </tbody>\n",
              "</table>\n",
              "<p>162348 rows × 3 columns</p>\n",
              "</div>"
            ],
            "text/plain": [
              "        ecoregion  observation_id  month\n",
              "0              12           43461      5\n",
              "1              12           73550      5\n",
              "2              12          141749      6\n",
              "3              12           72000      7\n",
              "4              12          123537      6\n",
              "...           ...             ...    ...\n",
              "162343        839          123004      9\n",
              "162344        839           60931     10\n",
              "162345        839           87041     10\n",
              "162346        839           28267      9\n",
              "162347        839          164384      9\n",
              "\n",
              "[162348 rows x 3 columns]"
            ]
          },
          "execution_count": 7,
          "metadata": {},
          "output_type": "execute_result"
        }
      ],
      "source": [
        "gbif_eco_gdf = (\n",
        "    eco_gdf\n",
        "    # Match the CRS of the GBIF data and the ecoregions\n",
        "    .to_crs(gbif_gdf.crs)\n",
        "\n",
        "    # Find ecoregion for each observation\n",
        "    .sjoin(\n",
        "        gbif_gdf,\n",
        "        how='inner', \n",
        "        # an inner join here should remove ecoregions that have no Veery sightings, \n",
        "        # and any Veery sighting that aren't in any ecoregions.\n",
        "        predicate='contains')\n",
        "\n",
        "    # Select only required columns\n",
        "    [['index_right', 'month']]\n",
        "    .reset_index()\n",
        "    # In this case, the index is the ecoregion number\n",
        "    .rename(columns={'index': 'ecoregion',\n",
        "                     'index_right': 'observation_id'})\n",
        ")\n",
        "gbif_eco_gdf"
      ]
    },
    {
      "cell_type": "markdown",
      "id": "3c6e544c-b550-4833-be00-5cbc5d3f835e",
      "metadata": {},
      "source": [
        "### Count the observations in each ecoregion each month\n",
        "\n",
        "<link rel=\"stylesheet\" type=\"text/css\" href=\"./assets/styles.css\"><div class=\"callout callout-style-default callout-titled callout-task\"><div class=\"callout-header\"><div class=\"callout-icon-container\"><i class=\"callout-icon\"></i></div><div class=\"callout-title-container flex-fill\">Try It: Group observations by ecoregion</div></div><div class=\"callout-body-container callout-body\"><ol type=\"1\">\n",
        "<li>Replace <code>columns_to_group_by</code> with a list of columns.\n",
        "Keep in mind that you will end up with one row for each group – you want\n",
        "to count the observations in each ecoregion by month.</li>\n",
        "<li>Select only month/ecosystem combinations that have more than one\n",
        "occurrence recorded, since a single occurrence could be an error.</li>\n",
        "<li>Use the <code>.groupby()</code> and <code>.mean()</code> methods to\n",
        "compute the mean occurrences by ecoregion and by month.</li>\n",
        "<li>Run the code – it will normalize the number of occurrences by month\n",
        "and ecoretion.</li>\n",
        "</ol></div></div>"
      ]
    },
    {
      "cell_type": "code",
      "execution_count": 10,
      "id": "28fb5682",
      "metadata": {
        "template": "student"
      },
      "outputs": [
        {
          "data": {
            "application/vnd.microsoft.datawrangler.viewer.v0+json": {
              "columns": [
                {
                  "name": "('ecoregion', 'month')",
                  "rawType": "object",
                  "type": "unknown"
                },
                {
                  "name": "occurrences",
                  "rawType": "int64",
                  "type": "integer"
                }
              ],
              "ref": "f9024dae-60b2-41d3-81d5-46af0619d91f",
              "rows": [
                [
                  "(np.int64(12), np.int64(5))",
                  "2"
                ],
                [
                  "(np.int64(12), np.int64(6))",
                  "2"
                ],
                [
                  "(np.int64(12), np.int64(7))",
                  "2"
                ],
                [
                  "(np.int64(16), np.int64(4))",
                  "2"
                ],
                [
                  "(np.int64(16), np.int64(5))",
                  "3023"
                ],
                [
                  "(np.int64(16), np.int64(6))",
                  "3242"
                ],
                [
                  "(np.int64(16), np.int64(7))",
                  "1823"
                ],
                [
                  "(np.int64(16), np.int64(8))",
                  "465"
                ],
                [
                  "(np.int64(16), np.int64(9))",
                  "143"
                ],
                [
                  "(np.int64(21), np.int64(2))",
                  "1"
                ],
                [
                  "(np.int64(22), np.int64(10))",
                  "3"
                ],
                [
                  "(np.int64(32), np.int64(4))",
                  "103"
                ],
                [
                  "(np.int64(32), np.int64(5))",
                  "2936"
                ],
                [
                  "(np.int64(32), np.int64(6))",
                  "1998"
                ],
                [
                  "(np.int64(32), np.int64(7))",
                  "866"
                ],
                [
                  "(np.int64(32), np.int64(8))",
                  "182"
                ],
                [
                  "(np.int64(32), np.int64(9))",
                  "531"
                ],
                [
                  "(np.int64(32), np.int64(10))",
                  "54"
                ],
                [
                  "(np.int64(33), np.int64(4))",
                  "51"
                ],
                [
                  "(np.int64(33), np.int64(5))",
                  "823"
                ],
                [
                  "(np.int64(33), np.int64(6))",
                  "390"
                ],
                [
                  "(np.int64(33), np.int64(7))",
                  "156"
                ],
                [
                  "(np.int64(33), np.int64(8))",
                  "64"
                ],
                [
                  "(np.int64(33), np.int64(9))",
                  "237"
                ],
                [
                  "(np.int64(33), np.int64(10))",
                  "15"
                ],
                [
                  "(np.int64(34), np.int64(3))",
                  "1"
                ],
                [
                  "(np.int64(34), np.int64(4))",
                  "275"
                ],
                [
                  "(np.int64(34), np.int64(5))",
                  "701"
                ],
                [
                  "(np.int64(34), np.int64(6))",
                  "1"
                ],
                [
                  "(np.int64(34), np.int64(7))",
                  "2"
                ],
                [
                  "(np.int64(34), np.int64(8))",
                  "23"
                ],
                [
                  "(np.int64(34), np.int64(9))",
                  "682"
                ],
                [
                  "(np.int64(34), np.int64(10))",
                  "120"
                ],
                [
                  "(np.int64(36), np.int64(10))",
                  "1"
                ],
                [
                  "(np.int64(38), np.int64(1))",
                  "2"
                ],
                [
                  "(np.int64(38), np.int64(2))",
                  "1"
                ],
                [
                  "(np.int64(38), np.int64(11))",
                  "3"
                ],
                [
                  "(np.int64(38), np.int64(12))",
                  "1"
                ],
                [
                  "(np.int64(49), np.int64(4))",
                  "6"
                ],
                [
                  "(np.int64(49), np.int64(5))",
                  "799"
                ],
                [
                  "(np.int64(49), np.int64(6))",
                  "75"
                ],
                [
                  "(np.int64(49), np.int64(7))",
                  "30"
                ],
                [
                  "(np.int64(49), np.int64(8))",
                  "49"
                ],
                [
                  "(np.int64(49), np.int64(9))",
                  "405"
                ],
                [
                  "(np.int64(49), np.int64(10))",
                  "26"
                ],
                [
                  "(np.int64(56), np.int64(4))",
                  "233"
                ],
                [
                  "(np.int64(56), np.int64(5))",
                  "230"
                ],
                [
                  "(np.int64(56), np.int64(9))",
                  "11"
                ],
                [
                  "(np.int64(56), np.int64(10))",
                  "35"
                ],
                [
                  "(np.int64(66), np.int64(5))",
                  "3"
                ]
              ],
              "shape": {
                "columns": 1,
                "rows": 353
              }
            },
            "text/html": [
              "<div>\n",
              "<style scoped>\n",
              "    .dataframe tbody tr th:only-of-type {\n",
              "        vertical-align: middle;\n",
              "    }\n",
              "\n",
              "    .dataframe tbody tr th {\n",
              "        vertical-align: top;\n",
              "    }\n",
              "\n",
              "    .dataframe thead th {\n",
              "        text-align: right;\n",
              "    }\n",
              "</style>\n",
              "<table border=\"1\" class=\"dataframe\">\n",
              "  <thead>\n",
              "    <tr style=\"text-align: right;\">\n",
              "      <th></th>\n",
              "      <th></th>\n",
              "      <th>occurrences</th>\n",
              "    </tr>\n",
              "    <tr>\n",
              "      <th>ecoregion</th>\n",
              "      <th>month</th>\n",
              "      <th></th>\n",
              "    </tr>\n",
              "  </thead>\n",
              "  <tbody>\n",
              "    <tr>\n",
              "      <th rowspan=\"3\" valign=\"top\">12</th>\n",
              "      <th>5</th>\n",
              "      <td>2</td>\n",
              "    </tr>\n",
              "    <tr>\n",
              "      <th>6</th>\n",
              "      <td>2</td>\n",
              "    </tr>\n",
              "    <tr>\n",
              "      <th>7</th>\n",
              "      <td>2</td>\n",
              "    </tr>\n",
              "    <tr>\n",
              "      <th rowspan=\"2\" valign=\"top\">16</th>\n",
              "      <th>4</th>\n",
              "      <td>2</td>\n",
              "    </tr>\n",
              "    <tr>\n",
              "      <th>5</th>\n",
              "      <td>3023</td>\n",
              "    </tr>\n",
              "    <tr>\n",
              "      <th>...</th>\n",
              "      <th>...</th>\n",
              "      <td>...</td>\n",
              "    </tr>\n",
              "    <tr>\n",
              "      <th rowspan=\"3\" valign=\"top\">833</th>\n",
              "      <th>7</th>\n",
              "      <td>297</td>\n",
              "    </tr>\n",
              "    <tr>\n",
              "      <th>8</th>\n",
              "      <td>40</td>\n",
              "    </tr>\n",
              "    <tr>\n",
              "      <th>9</th>\n",
              "      <td>11</td>\n",
              "    </tr>\n",
              "    <tr>\n",
              "      <th rowspan=\"2\" valign=\"top\">839</th>\n",
              "      <th>9</th>\n",
              "      <td>28</td>\n",
              "    </tr>\n",
              "    <tr>\n",
              "      <th>10</th>\n",
              "      <td>9</td>\n",
              "    </tr>\n",
              "  </tbody>\n",
              "</table>\n",
              "<p>353 rows × 1 columns</p>\n",
              "</div>"
            ],
            "text/plain": [
              "                 occurrences\n",
              "ecoregion month             \n",
              "12        5                2\n",
              "          6                2\n",
              "          7                2\n",
              "16        4                2\n",
              "          5             3023\n",
              "...                      ...\n",
              "833       7              297\n",
              "          8               40\n",
              "          9               11\n",
              "839       9               28\n",
              "          10               9\n",
              "\n",
              "[353 rows x 1 columns]"
            ]
          },
          "execution_count": 10,
          "metadata": {},
          "output_type": "execute_result"
        }
      ],
      "source": [
        "occurrence_df = (\n",
        "    gbif_eco_gdf\n",
        "    # For each ecoregion, for each month...\n",
        "    .groupby(['ecoregion', 'month'])\n",
        "    # ...count the number of occurrences\n",
        "    .agg(occurrences=('observation_id', 'count'))\n",
        ")\n",
        "occurrence_df\n",
        "# # Get rid of rare observations (possible misidentification?)\n",
        "# occurrence_df = occurrence_df[...]\n",
        "\n",
        "# # Take the mean by ecoregion\n",
        "# mean_occurrences_by_ecoregion = (\n",
        "#     occurrence_df\n",
        "#     ...\n",
        "# )\n",
        "# # Take the mean by month\n",
        "# mean_occurrences_by_month = (\n",
        "#     occurrence_df\n",
        "#     ...\n",
        "# )"
      ]
    },
    {
      "cell_type": "markdown",
      "id": "1296023c-3260-4be2-9e58-e5a1a7a878e9",
      "metadata": {},
      "source": [
        "### Normalize the observations\n",
        "\n",
        "<link rel=\"stylesheet\" type=\"text/css\" href=\"./assets/styles.css\"><div class=\"callout callout-style-default callout-titled callout-task\"><div class=\"callout-header\"><div class=\"callout-icon-container\"><i class=\"callout-icon\"></i></div><div class=\"callout-title-container flex-fill\">Try It: Normalize</div></div><div class=\"callout-body-container callout-body\"><ol type=\"1\">\n",
        "<li>Divide occurrences by the mean occurrences by month AND the mean\n",
        "occurrences by ecoregion</li>\n",
        "</ol></div></div>"
      ]
    },
    {
      "cell_type": "code",
      "execution_count": 7,
      "id": "ee2125ce",
      "metadata": {
        "template": "student"
      },
      "outputs": [],
      "source": [
        "# Normalize by space and time for sampling effort\n",
        "occurrence_df['norm_occurrences'] = (\n",
        "    occurrence_df\n",
        "    ...\n",
        ")\n",
        "occurrence_df"
      ]
    },
    {
      "cell_type": "markdown",
      "id": "f4af789e-4b89-4a6f-a39b-a45651239da4",
      "metadata": {},
      "source": [
        "<link rel=\"stylesheet\" type=\"text/css\" href=\"./assets/styles.css\"><div class=\"callout callout-style-default callout-titled callout-task\"><div class=\"callout-header\"><div class=\"callout-icon-container\"><i class=\"callout-icon\"></i></div><div class=\"callout-title-container flex-fill\">Try It</div></div><div class=\"callout-body-container callout-body\"><p>Make sure to store the new version of your <code>DataFrame</code> for\n",
        "other notebooks!</p>\n",
        "<div id=\"f13606e9\" class=\"cell\" data-execution_count=\"9\">\n",
        "<div class=\"sourceCode\" id=\"cb1\"><pre\n",
        "class=\"sourceCode python cell-code\"><code class=\"sourceCode python\"><span id=\"cb1-1\"><a href=\"#cb1-1\" aria-hidden=\"true\" tabindex=\"-1\"></a><span class=\"op\">%</span>store occurrence_df</span></code></pre></div>\n",
        "</div></div></div>\n",
        "\n",
        "# STEP -1: Wrap up\n",
        "\n",
        "Don’t forget to store your variables so you can use them in other\n",
        "notebooks! Replace `var1` and `var2` with the variable you want to save,\n",
        "separated by spaces."
      ]
    },
    {
      "cell_type": "code",
      "execution_count": 10,
      "id": "b2649d00",
      "metadata": {},
      "outputs": [],
      "source": [
        "%store var1 var2"
      ]
    },
    {
      "cell_type": "markdown",
      "id": "db475433-fdc1-49f8-bc5a-001207943236",
      "metadata": {},
      "source": [
        "Finally, be sure to `Restart` and `Run all` to make sure your notebook\n",
        "works all the way through!"
      ]
    }
  ],
  "metadata": {
    "kernelspec": {
      "display_name": "Learning Portal",
      "language": "python",
      "name": "learning-portal"
    },
    "language_info": {
      "codemirror_mode": {
        "name": "ipython",
        "version": "3"
      },
      "file_extension": ".py",
      "mimetype": "text/x-python",
      "name": "python",
      "nbconvert_exporter": "python",
      "pygments_lexer": "ipython3",
      "version": "3.11.13"
    }
  },
  "nbformat": 4,
  "nbformat_minor": 5
}
